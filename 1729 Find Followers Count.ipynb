{
 "cells": [
  {
   "cell_type": "markdown",
   "id": "e51c2695",
   "metadata": {},
   "source": [
    "able: Followers\n",
    "\n",
    "+-------------+------+\n",
    "| Column Name | Type |\n",
    "+-------------+------+\n",
    "| user_id     | int  |\n",
    "| follower_id | int  |\n",
    "+-------------+------+\n",
    "(user_id, follower_id) is the primary key for this table.\n",
    "This table contains the IDs of a user and a follower in a social media app where the follower follows the user.\n",
    " \n",
    "\n",
    "Write an SQL query that will, for each user, return the number of followers.\n",
    "\n",
    "Return the result table ordered by user_id in ascending order.\n",
    "\n",
    "The query result format is in the following example.\n",
    "\n",
    " \n",
    "\n",
    "Example 1:\n",
    "\n",
    "Input: \n",
    "Followers table:\n",
    "+---------+-------------+\n",
    "| user_id | follower_id |\n",
    "+---------+-------------+\n",
    "| 0       | 1           |\n",
    "| 1       | 0           |\n",
    "| 2       | 0           |\n",
    "| 2       | 1           |\n",
    "+---------+-------------+\n",
    "Output: \n",
    "+---------+----------------+\n",
    "| user_id | followers_count|\n",
    "+---------+----------------+\n",
    "| 0       | 1              |\n",
    "| 1       | 1              |\n",
    "| 2       | 2              |\n",
    "+---------+----------------+\n",
    "Explanation: \n",
    "The followers of 0 are {1}\n",
    "The followers of 1 are {0}\n",
    "The followers of 2 are {0,1}"
   ]
  },
  {
   "cell_type": "code",
   "execution_count": 1,
   "id": "c8007f6f",
   "metadata": {},
   "outputs": [],
   "source": [
    "import pyspark"
   ]
  },
  {
   "cell_type": "code",
   "execution_count": 2,
   "id": "ead25483",
   "metadata": {},
   "outputs": [],
   "source": [
    "from pyspark.sql import SparkSession"
   ]
  },
  {
   "cell_type": "code",
   "execution_count": 24,
   "id": "81552ff2",
   "metadata": {},
   "outputs": [],
   "source": [
    "from pyspark.sql.types import StructType, StructField, StringType, IntegerType\n",
    "from pyspark.sql.functions import count,col,asc"
   ]
  },
  {
   "cell_type": "code",
   "execution_count": 3,
   "id": "b24fd74e",
   "metadata": {},
   "outputs": [],
   "source": [
    "spark = SparkSession.builder.getOrCreate()"
   ]
  },
  {
   "cell_type": "code",
   "execution_count": 4,
   "id": "f98cf62d",
   "metadata": {},
   "outputs": [],
   "source": [
    "data = [(0,1),(1,0),(2,0),(2,1)]"
   ]
  },
  {
   "cell_type": "code",
   "execution_count": 6,
   "id": "e95eaf0a",
   "metadata": {},
   "outputs": [],
   "source": [
    "schema = StructType([StructField('user_id', IntegerType(), True), StructField('followers', IntegerType(), True)])"
   ]
  },
  {
   "cell_type": "code",
   "execution_count": 7,
   "id": "e226e165",
   "metadata": {},
   "outputs": [],
   "source": [
    "followers = spark.createDataFrame(data= data, schema = schema)"
   ]
  },
  {
   "cell_type": "code",
   "execution_count": 9,
   "id": "0d52458c",
   "metadata": {},
   "outputs": [
    {
     "name": "stdout",
     "output_type": "stream",
     "text": [
      "+-------+---------+\n",
      "|user_id|followers|\n",
      "+-------+---------+\n",
      "|      0|        1|\n",
      "|      1|        0|\n",
      "|      2|        0|\n",
      "|      2|        1|\n",
      "+-------+---------+\n",
      "\n"
     ]
    }
   ],
   "source": [
    "followers.show()"
   ]
  },
  {
   "cell_type": "code",
   "execution_count": 27,
   "id": "13ba1eb9",
   "metadata": {},
   "outputs": [
    {
     "name": "stdout",
     "output_type": "stream",
     "text": [
      "+-------+---------------+\n",
      "|user_id|followers_count|\n",
      "+-------+---------------+\n",
      "|      0|              1|\n",
      "|      1|              1|\n",
      "|      2|              2|\n",
      "+-------+---------------+\n",
      "\n"
     ]
    }
   ],
   "source": [
    "followers.groupBy('user_id').agg(count(col('followers')).alias('followers_count')).sort(col('user_id').asc()).show()"
   ]
  },
  {
   "cell_type": "code",
   "execution_count": null,
   "id": "9de4efa2",
   "metadata": {},
   "outputs": [],
   "source": []
  }
 ],
 "metadata": {
  "kernelspec": {
   "display_name": "Python 3 (ipykernel)",
   "language": "python",
   "name": "python3"
  },
  "language_info": {
   "codemirror_mode": {
    "name": "ipython",
    "version": 3
   },
   "file_extension": ".py",
   "mimetype": "text/x-python",
   "name": "python",
   "nbconvert_exporter": "python",
   "pygments_lexer": "ipython3",
   "version": "3.9.13"
  }
 },
 "nbformat": 4,
 "nbformat_minor": 5
}
