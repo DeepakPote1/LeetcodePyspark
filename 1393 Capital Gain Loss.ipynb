{
 "cells": [
  {
   "cell_type": "markdown",
   "id": "347829a1",
   "metadata": {},
   "source": [
    "+---------------+---------+\n",
    "| Column Name   | Type    |\n",
    "+---------------+---------+\n",
    "| stock_name    | varchar |\n",
    "| operation     | enum    |\n",
    "| operation_day | int     |\n",
    "| price         | int     |\n",
    "+---------------+---------+\n",
    "(stock_name, operation_day) is the primary key for this table.\n",
    "The operation column is an ENUM of type ('Sell', 'Buy')\n",
    "Each row of this table indicates that the stock which has stock_name had an operation on the day operation_day with the price.\n",
    "It is guaranteed that each 'Sell' operation for a stock has a corresponding 'Buy' operation in a previous day. It is also guaranteed that each 'Buy' operation for a stock has a corresponding 'Sell' operation in an upcoming day.\n",
    " \n",
    "\n",
    "Write an SQL query to report the Capital gain/loss for each stock.\n",
    "\n",
    "The Capital gain/loss of a stock is the total gain or loss after buying and selling the stock one or many times.\n",
    "\n",
    "Return the result table in any order.\n",
    "\n",
    "The query result format is in the following example.\n",
    "\n",
    " \n",
    "\n",
    "Example 1:\n",
    "\n",
    "Input: \n",
    "Stocks table:\n",
    "+---------------+-----------+---------------+--------+\n",
    "| stock_name    | operation | operation_day | price  |\n",
    "+---------------+-----------+---------------+--------+\n",
    "| Leetcode      | Buy       | 1             | 1000   |\n",
    "| Corona Masks  | Buy       | 2             | 10     |\n",
    "| Leetcode      | Sell      | 5             | 9000   |\n",
    "| Handbags      | Buy       | 17            | 30000  |\n",
    "| Corona Masks  | Sell      | 3             | 1010   |\n",
    "| Corona Masks  | Buy       | 4             | 1000   |\n",
    "| Corona Masks  | Sell      | 5             | 500    |\n",
    "| Corona Masks  | Buy       | 6             | 1000   |\n",
    "| Handbags      | Sell      | 29            | 7000   |\n",
    "| Corona Masks  | Sell      | 10            | 10000  |\n",
    "+---------------+-----------+---------------+--------+\n",
    "Output: \n",
    "+---------------+-------------------+\n",
    "| stock_name    | capital_gain_loss |\n",
    "+---------------+-------------------+\n",
    "| Corona Masks  | 9500              |\n",
    "| Leetcode      | 8000              |\n",
    "| Handbags      | -23000            |\n",
    "+---------------+-------------------+\n",
    "Explanation: \n",
    "Leetcode stock was bought at day 1 for 1000$ and was sold at day 5 for 9000$. Capital gain = 9000 - 1000 = 8000$.\n",
    "Handbags stock was bought at day 17 for 30000$ and was sold at day 29 for 7000$. Capital loss = 7000 - 30000 = -23000$.\n",
    "Corona Masks stock was bought at day 1 for 10$ and was sold at day 3 for 1010$. It was bought again at day 4 for 1000$ and was sold at day 5 for 500$. At last, it was bought at day 6 for 1000$ and was sold at day 10 for 10000$. Capital gain/loss is the sum of capital gains/losses for each ('Buy' --> 'Sell') operation = (1010 - 10) + (500 - 1000) + (10000 - 1000) = 1000 - 500 + 9000 = 9500$."
   ]
  },
  {
   "cell_type": "code",
   "execution_count": 3,
   "id": "4e27e9f2",
   "metadata": {},
   "outputs": [],
   "source": [
    "import pyspark\n",
    "from pyspark.sql import SparkSession\n",
    "from pyspark.sql.types import StructType, StringType, IntegerType, StructField"
   ]
  },
  {
   "cell_type": "code",
   "execution_count": 4,
   "id": "b41ec23f",
   "metadata": {},
   "outputs": [],
   "source": [
    "schema = StructType([StructField('stock_name', StringType(), True), \n",
    "                     StructField('operation', StringType(), True), \n",
    "                     StructField('operation_day', IntegerType(), True), \n",
    "                     StructField('price', IntegerType(), True)])"
   ]
  },
  {
   "cell_type": "code",
   "execution_count": 5,
   "id": "3215f2dc",
   "metadata": {},
   "outputs": [],
   "source": [
    "data = [('Leetcode', 'Buy', 1, 1000),\n",
    "       ('Corona Masks', 'Buy', 2, 10),\n",
    "       ('Leetcode', 'Sell', 5, 9000),\n",
    "       ('Handbags', 'Buy', 17, 30000),\n",
    "       ('Corona Masks', 'Sell', 3, 1010),\n",
    "       ('Corona Masks', 'Buy', 4, 1000),\n",
    "       ('Corona Masks', 'Sell', 5, 500),\n",
    "       ('Corona Masks', 'Buy', 6, 1000),\n",
    "       ('Handbags', 'Sell', 29, 7000),\n",
    "       ('Corona Masks', 'Sell', 10, 10000)]"
   ]
  },
  {
   "cell_type": "code",
   "execution_count": 8,
   "id": "77c096ac",
   "metadata": {},
   "outputs": [],
   "source": [
    "spark = SparkSession.builder.getOrCreate()"
   ]
  },
  {
   "cell_type": "code",
   "execution_count": 9,
   "id": "13b7e74b",
   "metadata": {},
   "outputs": [],
   "source": [
    "stocks = spark.createDataFrame(data = data, schema = schema)"
   ]
  },
  {
   "cell_type": "code",
   "execution_count": 10,
   "id": "e2e66d1a",
   "metadata": {},
   "outputs": [
    {
     "name": "stdout",
     "output_type": "stream",
     "text": [
      "+------------+---------+-------------+-----+\n",
      "|  stock_name|operation|operation_day|price|\n",
      "+------------+---------+-------------+-----+\n",
      "|    Leetcode|      Buy|            1| 1000|\n",
      "|Corona Masks|      Buy|            2|   10|\n",
      "|    Leetcode|     Sell|            5| 9000|\n",
      "|    Handbags|      Buy|           17|30000|\n",
      "|Corona Masks|     Sell|            3| 1010|\n",
      "|Corona Masks|      Buy|            4| 1000|\n",
      "|Corona Masks|     Sell|            5|  500|\n",
      "|Corona Masks|      Buy|            6| 1000|\n",
      "|    Handbags|     Sell|           29| 7000|\n",
      "|Corona Masks|     Sell|           10|10000|\n",
      "+------------+---------+-------------+-----+\n",
      "\n"
     ]
    }
   ],
   "source": [
    "stocks.show()"
   ]
  },
  {
   "cell_type": "code",
   "execution_count": 30,
   "id": "3ef27f3d",
   "metadata": {},
   "outputs": [],
   "source": [
    "from pyspark.sql.functions import lead, col\n",
    "from pyspark.sql.functions import min, max, avg, sum, count"
   ]
  },
  {
   "cell_type": "code",
   "execution_count": 36,
   "id": "b2a666bc",
   "metadata": {},
   "outputs": [],
   "source": [
    "buy = stocks.filter(col('operation')=='Buy').groupBy('stock_name').agg(sum('price').alias('sum_b'))"
   ]
  },
  {
   "cell_type": "code",
   "execution_count": 37,
   "id": "e2966221",
   "metadata": {},
   "outputs": [
    {
     "name": "stdout",
     "output_type": "stream",
     "text": [
      "+------------+-----+\n",
      "|  stock_name|sum_b|\n",
      "+------------+-----+\n",
      "|    Leetcode| 1000|\n",
      "|Corona Masks| 2010|\n",
      "|    Handbags|30000|\n",
      "+------------+-----+\n",
      "\n"
     ]
    }
   ],
   "source": [
    "buy.show()"
   ]
  },
  {
   "cell_type": "code",
   "execution_count": 38,
   "id": "ea39b314",
   "metadata": {},
   "outputs": [],
   "source": [
    "sell = stocks.filter(col('operation')=='Sell').groupBy('stock_name').agg(sum('price').alias('sum_s'))"
   ]
  },
  {
   "cell_type": "code",
   "execution_count": 39,
   "id": "0257479f",
   "metadata": {},
   "outputs": [
    {
     "name": "stdout",
     "output_type": "stream",
     "text": [
      "+------------+-----+\n",
      "|  stock_name|sum_s|\n",
      "+------------+-----+\n",
      "|    Leetcode| 9000|\n",
      "|Corona Masks|11510|\n",
      "|    Handbags| 7000|\n",
      "+------------+-----+\n",
      "\n"
     ]
    }
   ],
   "source": [
    "sell.show()"
   ]
  },
  {
   "cell_type": "code",
   "execution_count": 47,
   "id": "d0155969",
   "metadata": {},
   "outputs": [
    {
     "name": "stdout",
     "output_type": "stream",
     "text": [
      "+------------+-----------------+\n",
      "|  stock_name|capital_gain_loss|\n",
      "+------------+-----------------+\n",
      "|    Leetcode|             8000|\n",
      "|Corona Masks|             9500|\n",
      "|    Handbags|           -23000|\n",
      "+------------+-----------------+\n",
      "\n"
     ]
    }
   ],
   "source": [
    "buy.join(sell, ['stock_name'], 'inner').withColumn('capital_gain_loss' , col('sum_s')-col('sum_b')).select('stock_name','capital_gain_loss').show()"
   ]
  },
  {
   "cell_type": "code",
   "execution_count": null,
   "id": "61257773",
   "metadata": {},
   "outputs": [],
   "source": [
    "#['stock_name'] is used instead of buy.stock_name==sell.stock_name to avoid duplicate stock_name column."
   ]
  }
 ],
 "metadata": {
  "kernelspec": {
   "display_name": "Python 3 (ipykernel)",
   "language": "python",
   "name": "python3"
  },
  "language_info": {
   "codemirror_mode": {
    "name": "ipython",
    "version": 3
   },
   "file_extension": ".py",
   "mimetype": "text/x-python",
   "name": "python",
   "nbconvert_exporter": "python",
   "pygments_lexer": "ipython3",
   "version": "3.9.13"
  }
 },
 "nbformat": 4,
 "nbformat_minor": 5
}
