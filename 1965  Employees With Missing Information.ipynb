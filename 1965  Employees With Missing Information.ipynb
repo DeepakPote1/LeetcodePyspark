{
 "cells": [
  {
   "cell_type": "markdown",
   "id": "85a15714",
   "metadata": {},
   "source": [
    "Table: Employees\n",
    "\n",
    "+-------------+---------+\n",
    "| Column Name | Type    |\n",
    "+-------------+---------+\n",
    "| employee_id | int     |\n",
    "| name        | varchar |\n",
    "+-------------+---------+\n",
    "employee_id is the primary key for this table.\n",
    "Each row of this table indicates the name of the employee whose ID is employee_id.\n",
    " \n",
    "\n",
    "Table: Salaries\n",
    "\n",
    "+-------------+---------+\n",
    "| Column Name | Type    |\n",
    "+-------------+---------+\n",
    "| employee_id | int     |\n",
    "| salary      | int     |\n",
    "+-------------+---------+\n",
    "employee_id is the primary key for this table.\n",
    "Each row of this table indicates the salary of the employee whose ID is employee_id.\n",
    " \n",
    "\n",
    "Write an SQL query to report the IDs of all the employees with missing information. The information of an employee is missing if:\n",
    "\n",
    "The employee's name is missing, or\n",
    "The employee's salary is missing.\n",
    "Return the result table ordered by employee_id in ascending order.\n",
    "\n",
    "The query result format is in the following example.\n",
    "\n",
    " \n",
    "\n",
    "Example 1:\n",
    "\n",
    "Input: \n",
    "Employees table:\n",
    "+-------------+----------+\n",
    "| employee_id | name     |\n",
    "+-------------+----------+\n",
    "| 2           | Crew     |\n",
    "| 4           | Haven    |\n",
    "| 5           | Kristian |\n",
    "+-------------+----------+\n",
    "Salaries table:\n",
    "+-------------+--------+\n",
    "| employee_id | salary |\n",
    "+-------------+--------+\n",
    "| 5           | 76071  |\n",
    "| 1           | 22517  |\n",
    "| 4           | 63539  |\n",
    "+-------------+--------+\n",
    "Output: \n",
    "+-------------+\n",
    "| employee_id |\n",
    "+-------------+\n",
    "| 1           |\n",
    "| 2           |\n",
    "+-------------+\n",
    "Explanation: \n",
    "Employees 1, 2, 4, and 5 are working at this company.\n",
    "The name of employee 1 is missing.\n",
    "The salary of employee 2 is missing."
   ]
  },
  {
   "cell_type": "code",
   "execution_count": 1,
   "id": "a5557ff2",
   "metadata": {},
   "outputs": [],
   "source": [
    "import pyspark"
   ]
  },
  {
   "cell_type": "code",
   "execution_count": 17,
   "id": "781d20af",
   "metadata": {},
   "outputs": [],
   "source": [
    "from pyspark.sql import SparkSession\n",
    "from pyspark.sql.types import StructType, StructField, IntegerType, StringType\n",
    "from pyspark.sql.functions import col"
   ]
  },
  {
   "cell_type": "code",
   "execution_count": 3,
   "id": "33ee64b2",
   "metadata": {},
   "outputs": [],
   "source": [
    "spark = SparkSession.builder.getOrCreate()"
   ]
  },
  {
   "cell_type": "code",
   "execution_count": 8,
   "id": "7c22421e",
   "metadata": {},
   "outputs": [],
   "source": [
    "schema1 = StructType([StructField('employee_id', IntegerType(), True),\n",
    "                      StructField('name', StringType(), True)])"
   ]
  },
  {
   "cell_type": "code",
   "execution_count": 9,
   "id": "388d8b94",
   "metadata": {},
   "outputs": [],
   "source": [
    "schema2 = StructType([StructField('employee_id', IntegerType(), True),\n",
    "                      StructField('salary', IntegerType(), True)])"
   ]
  },
  {
   "cell_type": "code",
   "execution_count": 10,
   "id": "e5ddfde8",
   "metadata": {},
   "outputs": [],
   "source": [
    "data1 = [(2,'crew'),(4,'haven'),(5,'kristian')]"
   ]
  },
  {
   "cell_type": "code",
   "execution_count": 11,
   "id": "9cc3c1e1",
   "metadata": {},
   "outputs": [],
   "source": [
    "data2 = [(5, 8900),(1, 2345), (4,980)]"
   ]
  },
  {
   "cell_type": "code",
   "execution_count": 12,
   "id": "3f768130",
   "metadata": {},
   "outputs": [],
   "source": [
    "emp = spark.createDataFrame(data = data1, schema = schema1)"
   ]
  },
  {
   "cell_type": "code",
   "execution_count": 13,
   "id": "f4d77f65",
   "metadata": {},
   "outputs": [],
   "source": [
    "salary = spark.createDataFrame(data = data2, schema = schema2)"
   ]
  },
  {
   "cell_type": "code",
   "execution_count": 14,
   "id": "9b980200",
   "metadata": {},
   "outputs": [
    {
     "name": "stdout",
     "output_type": "stream",
     "text": [
      "+-----------+--------+\n",
      "|employee_id|    name|\n",
      "+-----------+--------+\n",
      "|          2|    crew|\n",
      "|          4|   haven|\n",
      "|          5|kristian|\n",
      "+-----------+--------+\n",
      "\n"
     ]
    }
   ],
   "source": [
    "emp.show()"
   ]
  },
  {
   "cell_type": "code",
   "execution_count": 15,
   "id": "b07ac36a",
   "metadata": {},
   "outputs": [
    {
     "name": "stdout",
     "output_type": "stream",
     "text": [
      "+-----------+------+\n",
      "|employee_id|salary|\n",
      "+-----------+------+\n",
      "|          5|  8900|\n",
      "|          1|  2345|\n",
      "|          4|   980|\n",
      "+-----------+------+\n",
      "\n"
     ]
    }
   ],
   "source": [
    "salary.show()"
   ]
  },
  {
   "cell_type": "code",
   "execution_count": 22,
   "id": "5e063ccb",
   "metadata": {},
   "outputs": [
    {
     "name": "stdout",
     "output_type": "stream",
     "text": [
      "+-----------+\n",
      "|employee_id|\n",
      "+-----------+\n",
      "|          1|\n",
      "|          2|\n",
      "+-----------+\n",
      "\n"
     ]
    }
   ],
   "source": [
    "emp.join(salary, ['employee_id'], 'outer').filter(col('name').isNull() | col('salary').isNull()).select('employee_id').show()"
   ]
  },
  {
   "cell_type": "code",
   "execution_count": 24,
   "id": "7d49b9ae",
   "metadata": {},
   "outputs": [],
   "source": [
    "salary.createOrReplaceTempView('salary')"
   ]
  },
  {
   "cell_type": "code",
   "execution_count": 25,
   "id": "0e7d6cea",
   "metadata": {},
   "outputs": [],
   "source": [
    "emp.createOrReplaceTempView('emp')"
   ]
  },
  {
   "cell_type": "code",
   "execution_count": 33,
   "id": "6289c946",
   "metadata": {},
   "outputs": [
    {
     "name": "stdout",
     "output_type": "stream",
     "text": [
      "+-----------+\n",
      "|employee_id|\n",
      "+-----------+\n",
      "|       null|\n",
      "|          4|\n",
      "|          5|\n",
      "+-----------+\n",
      "\n"
     ]
    }
   ],
   "source": [
    "spark.sql('select s.employee_id from emp e left outer join salary s on e.employee_id = s.employee_id;').show()"
   ]
  },
  {
   "cell_type": "code",
   "execution_count": null,
   "id": "da2d9198",
   "metadata": {},
   "outputs": [],
   "source": []
  }
 ],
 "metadata": {
  "kernelspec": {
   "display_name": "Python 3 (ipykernel)",
   "language": "python",
   "name": "python3"
  },
  "language_info": {
   "codemirror_mode": {
    "name": "ipython",
    "version": 3
   },
   "file_extension": ".py",
   "mimetype": "text/x-python",
   "name": "python",
   "nbconvert_exporter": "python",
   "pygments_lexer": "ipython3",
   "version": "3.9.13"
  }
 },
 "nbformat": 4,
 "nbformat_minor": 5
}
