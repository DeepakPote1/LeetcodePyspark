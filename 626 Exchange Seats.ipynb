{
 "cells": [
  {
   "cell_type": "markdown",
   "id": "282220e5",
   "metadata": {},
   "source": [
    "Table: Seat\n",
    "\n",
    "+-------------+---------+\n",
    "| Column Name | Type    |\n",
    "+-------------+---------+\n",
    "| id          | int     |\n",
    "| student     | varchar |\n",
    "+-------------+---------+\n",
    "id is the primary key column for this table.\n",
    "Each row of this table indicates the name and the ID of a student.\n",
    "id is a continuous increment.\n",
    " \n",
    "\n",
    "Write an SQL query to swap the seat id of every two consecutive students. If the number of students is odd, the id of the last student is not swapped.\n",
    "\n",
    "Return the result table ordered by id in ascending order.\n",
    "\n",
    "The query result format is in the following example.\n",
    "\n",
    " \n",
    "\n",
    "Example 1:\n",
    "\n",
    "Input: \n",
    "Seat table:\n",
    "+----+---------+\n",
    "| id | student |\n",
    "+----+---------+\n",
    "| 1  | Abbot   |\n",
    "| 2  | Doris   |\n",
    "| 3  | Emerson |\n",
    "| 4  | Green   |\n",
    "| 5  | Jeames  |\n",
    "+----+---------+\n",
    "Output: \n",
    "+----+---------+\n",
    "| id | student |\n",
    "+----+---------+\n",
    "| 1  | Doris   |\n",
    "| 2  | Abbot   |\n",
    "| 3  | Green   |\n",
    "| 4  | Emerson |\n",
    "| 5  | Jeames  |\n",
    "+----+---------+\n",
    "Explanation: \n",
    "Note that if the number of students is odd, there is no need to change the last one's seat."
   ]
  },
  {
   "cell_type": "code",
   "execution_count": 13,
   "id": "afa76f6b",
   "metadata": {},
   "outputs": [],
   "source": [
    "import pyspark\n",
    "from pyspark.sql import SparkSession\n",
    "from pyspark.sql.types import StructType, StructField, StringType, IntegerType, FloatType\n",
    "from pyspark.sql.functions import col\n",
    "\n"
   ]
  },
  {
   "cell_type": "code",
   "execution_count": 7,
   "id": "d7225c53",
   "metadata": {},
   "outputs": [],
   "source": [
    "spark = SparkSession.builder.getOrCreate()"
   ]
  },
  {
   "cell_type": "code",
   "execution_count": 8,
   "id": "9fb71913",
   "metadata": {},
   "outputs": [],
   "source": [
    "schema1 = StructType([StructField('id', IntegerType(), True),\n",
    "                      StructField('student', StringType(), True)])\n",
    "\n"
   ]
  },
  {
   "cell_type": "code",
   "execution_count": 9,
   "id": "e40ba398",
   "metadata": {},
   "outputs": [],
   "source": [
    "data1 = [(1 , 'Abbot'   ),\n",
    "( 2  , 'Doris'   ),\n",
    "( 3  , 'Emerson' ),\n",
    "( 4  , 'Green'   ),\n",
    "( 5  , 'Jeames')]"
   ]
  },
  {
   "cell_type": "code",
   "execution_count": 10,
   "id": "40b0f27b",
   "metadata": {},
   "outputs": [],
   "source": [
    "seat = spark.createDataFrame(data = data1, schema = schema1)"
   ]
  },
  {
   "cell_type": "code",
   "execution_count": 12,
   "id": "f50af1c1",
   "metadata": {},
   "outputs": [
    {
     "name": "stdout",
     "output_type": "stream",
     "text": [
      "+---+-------+\n",
      "| id|student|\n",
      "+---+-------+\n",
      "|  1|  Abbot|\n",
      "|  2|  Doris|\n",
      "|  3|Emerson|\n",
      "|  4|  Green|\n",
      "|  5| Jeames|\n",
      "+---+-------+\n",
      "\n"
     ]
    }
   ],
   "source": [
    "seat.show()"
   ]
  },
  {
   "cell_type": "code",
   "execution_count": 18,
   "id": "0ea66270",
   "metadata": {},
   "outputs": [],
   "source": [
    "even = seat.filter(col('id')%2==0).withColumn('id', col('id')-1)"
   ]
  },
  {
   "cell_type": "code",
   "execution_count": 19,
   "id": "f166d07c",
   "metadata": {},
   "outputs": [
    {
     "name": "stdout",
     "output_type": "stream",
     "text": [
      "+---+-------+\n",
      "| id|student|\n",
      "+---+-------+\n",
      "|  1|  Doris|\n",
      "|  3|  Green|\n",
      "+---+-------+\n",
      "\n"
     ]
    }
   ],
   "source": [
    "even.show()"
   ]
  },
  {
   "cell_type": "code",
   "execution_count": 35,
   "id": "a7e7d4f8",
   "metadata": {},
   "outputs": [],
   "source": [
    "odd = seat.filter((col('id') < seat.count()) & (col('id')%2==1)).withColumn('id', col('id')+1)"
   ]
  },
  {
   "cell_type": "code",
   "execution_count": 36,
   "id": "4f95b894",
   "metadata": {},
   "outputs": [
    {
     "name": "stdout",
     "output_type": "stream",
     "text": [
      "+---+-------+\n",
      "| id|student|\n",
      "+---+-------+\n",
      "|  2|  Abbot|\n",
      "|  4|Emerson|\n",
      "+---+-------+\n",
      "\n"
     ]
    }
   ],
   "source": [
    "odd.show()"
   ]
  },
  {
   "cell_type": "code",
   "execution_count": 41,
   "id": "379fb50a",
   "metadata": {},
   "outputs": [],
   "source": [
    "left = seat.filter((col('id') == seat.count()))"
   ]
  },
  {
   "cell_type": "code",
   "execution_count": 42,
   "id": "e035e7ab",
   "metadata": {},
   "outputs": [
    {
     "name": "stdout",
     "output_type": "stream",
     "text": [
      "+---+-------+\n",
      "| id|student|\n",
      "+---+-------+\n",
      "|  5| Jeames|\n",
      "+---+-------+\n",
      "\n"
     ]
    }
   ],
   "source": [
    "left.show()"
   ]
  },
  {
   "cell_type": "code",
   "execution_count": 44,
   "id": "f050ba2d",
   "metadata": {},
   "outputs": [
    {
     "name": "stdout",
     "output_type": "stream",
     "text": [
      "+---+-------+\n",
      "| id|student|\n",
      "+---+-------+\n",
      "|  1|  Doris|\n",
      "|  2|  Abbot|\n",
      "|  3|  Green|\n",
      "|  4|Emerson|\n",
      "|  5| Jeames|\n",
      "+---+-------+\n",
      "\n"
     ]
    }
   ],
   "source": [
    "even.union(odd).union(left).sort(col('id').asc()).show()"
   ]
  },
  {
   "cell_type": "code",
   "execution_count": null,
   "id": "4ce3288b",
   "metadata": {},
   "outputs": [],
   "source": []
  }
 ],
 "metadata": {
  "kernelspec": {
   "display_name": "Python 3 (ipykernel)",
   "language": "python",
   "name": "python3"
  },
  "language_info": {
   "codemirror_mode": {
    "name": "ipython",
    "version": 3
   },
   "file_extension": ".py",
   "mimetype": "text/x-python",
   "name": "python",
   "nbconvert_exporter": "python",
   "pygments_lexer": "ipython3",
   "version": "3.9.13"
  }
 },
 "nbformat": 4,
 "nbformat_minor": 5
}
